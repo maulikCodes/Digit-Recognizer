{
 "cells": [
  {
   "cell_type": "code",
   "execution_count": 1,
   "metadata": {},
   "outputs": [],
   "source": [
    "import numpy as np\n",
    "import matplotlib.pyplot as plt\n",
    "from matplotlib.pyplot import imshow\n",
    "from sklearn.model_selection import train_test_split\n",
    "from sklearn.metrics import confusion_matrix\n",
    "\n",
    "\n",
    "from keras.utils import to_categorical\n",
    "from keras.models import Sequential\n",
    "from keras.layers import Conv2D,Dense,Flatten,MaxPool2D\n",
    "from keras import regularizers\n",
    "from keras import optimizers\n",
    "from keras.callbacks import ReduceLROnPlateau\n",
    "from keras.preprocessing.image import ImageDataGenerator\n",
    "\n",
    "import pandas as pd\n",
    "%matplotlib inline"
   ]
  },
  {
   "cell_type": "code",
   "execution_count": 2,
   "metadata": {},
   "outputs": [],
   "source": [
    "train = pd.read_csv('train.csv')\n",
    "test = pd.read_csv('test.csv')"
   ]
  },
  {
   "cell_type": "code",
   "execution_count": 3,
   "metadata": {},
   "outputs": [],
   "source": [
    "X_train = train.drop('label',axis=1)\n",
    "Y_train = train['label']"
   ]
  },
  {
   "cell_type": "code",
   "execution_count": 4,
   "metadata": {},
   "outputs": [
    {
     "data": {
      "text/plain": [
       "count       784\n",
       "unique        1\n",
       "top       False\n",
       "freq        784\n",
       "dtype: object"
      ]
     },
     "execution_count": 4,
     "metadata": {},
     "output_type": "execute_result"
    }
   ],
   "source": [
    "X_train.isnull().any().describe()"
   ]
  },
  {
   "cell_type": "code",
   "execution_count": 5,
   "metadata": {},
   "outputs": [
    {
     "data": {
      "text/plain": [
       "count       784\n",
       "unique        1\n",
       "top       False\n",
       "freq        784\n",
       "dtype: object"
      ]
     },
     "execution_count": 5,
     "metadata": {},
     "output_type": "execute_result"
    }
   ],
   "source": [
    "test.isnull().any().describe()"
   ]
  },
  {
   "cell_type": "code",
   "execution_count": 6,
   "metadata": {},
   "outputs": [],
   "source": [
    "X_train = X_train/255.0\n",
    "test = test/255.0"
   ]
  },
  {
   "cell_type": "code",
   "execution_count": 7,
   "metadata": {},
   "outputs": [],
   "source": [
    "X_train = X_train.values.reshape(-1,28,28,1)\n",
    "test = test.values.reshape(-1,28,28,1)"
   ]
  },
  {
   "cell_type": "code",
   "execution_count": 8,
   "metadata": {},
   "outputs": [],
   "source": [
    "Y_train = to_categorical(Y_train,10)"
   ]
  },
  {
   "cell_type": "code",
   "execution_count": 9,
   "metadata": {},
   "outputs": [],
   "source": [
    "random_seed = 42"
   ]
  },
  {
   "cell_type": "code",
   "execution_count": 10,
   "metadata": {},
   "outputs": [],
   "source": [
    "X_train, X_cv, Y_train, Y_cv = train_test_split(X_train, Y_train, test_size = 0.2, random_state=random_seed)"
   ]
  },
  {
   "cell_type": "code",
   "execution_count": 11,
   "metadata": {},
   "outputs": [
    {
     "data": {
      "image/png": "[encoded data removed]",
      "text/plain": [
       "<matplotlib.figure.Figure at 0x1d813ae16a0>"
      ]
     },
     "metadata": {},
     "output_type": "display_data"
    }
   ],
   "source": [
    "g = plt.imshow(X_train[0][:,:,0])"
   ]
  },
  {
   "cell_type": "code",
   "execution_count": 12,
   "metadata": {},
   "outputs": [
    {
     "name": "stdout",
     "output_type": "stream",
     "text": [
      "WARNING:tensorflow:From C:\\Users\\hi\\AppData\\Local\\conda\\conda\\envs\\deep_learning\\lib\\site-packages\\keras\\backend\\tensorflow_backend.py:1238: calling reduce_sum (from tensorflow.python.ops.math_ops) with keep_dims is deprecated and will be removed in a future version.\n",
      "Instructions for updating:\n",
      "keep_dims is deprecated, use keepdims instead\n",
      "WARNING:tensorflow:From C:\\Users\\hi\\AppData\\Local\\conda\\conda\\envs\\deep_learning\\lib\\site-packages\\keras\\backend\\tensorflow_backend.py:1255: calling reduce_prod (from tensorflow.python.ops.math_ops) with keep_dims is deprecated and will be removed in a future version.\n",
      "Instructions for updating:\n",
      "keep_dims is deprecated, use keepdims instead\n"
     ]
    }
   ],
   "source": [
    "### Model -> [[Conv->Relu(L2)]*2->MaxPool]*2->Flatten->Dense->L2->Output\n",
    "model = Sequential()\n",
    "\n",
    "model.add(Conv2D(filters=32,kernel_size=(5,5),strides=1,padding='Same',input_shape=[28,28,1],kernel_initializer='glorot_uniform', \n",
    "                 bias_initializer='zeros',activation='relu',kernel_regularizer=regularizers.l2(0.01)))\n",
    "model.add(Conv2D(filters=32,kernel_size=(5,5),strides=1,padding='Same',kernel_initializer='glorot_uniform',\n",
    "                 bias_initializer='zeros',activation='relu',kernel_regularizer=regularizers.l2(0.01)))\n",
    "model.add(MaxPool2D(pool_size=(2,2)))\n",
    "\n",
    "model.add(Conv2D(filters=64,kernel_size=(5,5),strides=1,padding='Same',kernel_initializer='glorot_uniform', \n",
    "                 bias_initializer='zeros',activation='relu',kernel_regularizer=regularizers.l2(0.01)))\n",
    "model.add(Conv2D(filters=64,kernel_size=(5,5),strides=1,padding='Same',kernel_initializer='glorot_uniform',\n",
    "                 bias_initializer='zeros',activation='relu',kernel_regularizer=regularizers.l2(0.01)))\n",
    "model.add(MaxPool2D(pool_size=(2,2),strides=(2,2)))\n",
    "\n",
    "model.add(Flatten())\n",
    "model.add(Dense(256,activation='relu',kernel_initializer='glorot_uniform', bias_initializer='zeros', \n",
    "                kernel_regularizer=regularizers.l2(0.01)))\n",
    "model.add(Dense(10,activation='softmax'))"
   ]
  },
  {
   "cell_type": "code",
   "execution_count": 13,
   "metadata": {},
   "outputs": [
    {
     "name": "stdout",
     "output_type": "stream",
     "text": [
      "WARNING:tensorflow:From C:\\Users\\hi\\AppData\\Local\\conda\\conda\\envs\\deep_learning\\lib\\site-packages\\keras\\backend\\tensorflow_backend.py:1340: calling reduce_mean (from tensorflow.python.ops.math_ops) with keep_dims is deprecated and will be removed in a future version.\n",
      "Instructions for updating:\n",
      "keep_dims is deprecated, use keepdims instead\n"
     ]
    }
   ],
   "source": [
    "model.compile(optimizer='adam',loss='categorical_crossentropy',metrics=['accuracy'])"
   ]
  },
  {
   "cell_type": "code",
   "execution_count": 14,
   "metadata": {},
   "outputs": [],
   "source": [
    "learning_rate_reduction = ReduceLROnPlateau(monitor='val_acc',patience=2,verbose=1, factor=0.5,min_lr=0.00001)"
   ]
  },
  {
   "cell_type": "code",
   "execution_count": 15,
   "metadata": {},
   "outputs": [],
   "source": [
    "datagen = ImageDataGenerator(featurewise_center=False,\n",
    "                            samplewise_center=False,\n",
    "                            featurewise_std_normalization=False,\n",
    "                            samplewise_std_normalization=False,\n",
    "                            rotation_range=10,\n",
    "                            width_shift_range=0.1,\n",
    "                            height_shift_range=0.1,\n",
    "                            zoom_range=[0.9,1.1],\n",
    "                            horizontal_flip=False,\n",
    "                            vertical_flip=False)\n",
    "datagen.fit(X_train)"
   ]
  },
  {
   "cell_type": "code",
   "execution_count": 16,
   "metadata": {},
   "outputs": [],
   "source": [
    "epochs = 20\n",
    "batch_size = 32"
   ]
  },
  {
   "cell_type": "code",
   "execution_count": 17,
   "metadata": {},
   "outputs": [
    {
     "name": "stdout",
     "output_type": "stream",
     "text": [
      "Epoch 1/10\n",
      "1050/1050 [==============================] - 564s 537ms/step - loss: 0.8024 - acc: 0.8897 - val_loss: 0.4062 - val_acc: 0.9618\n",
      "Epoch 2/10\n",
      "1050/1050 [==============================] - 561s 534ms/step - loss: 0.4525 - acc: 0.9407 - val_loss: 0.3237 - val_acc: 0.9742\n",
      "Epoch 3/10\n",
      "1050/1050 [==============================] - 550s 524ms/step - loss: 0.4067 - acc: 0.9463 - val_loss: 0.3164 - val_acc: 0.9705\n",
      "Epoch 4/10\n",
      "1050/1050 [==============================] - 563s 536ms/step - loss: 0.3762 - acc: 0.9500 - val_loss: 0.2960 - val_acc: 0.9736\n",
      "Epoch 5/10\n",
      "1049/1050 [============================>.] - ETA: 0s - loss: 0.3559 - acc: 0.9544\n",
      "Epoch 00005: reducing learning rate to 0.0005000000237487257.\n",
      "1050/1050 [==============================] - 581s 554ms/step - loss: 0.3559 - acc: 0.9544 - val_loss: 0.2827 - val_acc: 0.9723\n",
      "Epoch 6/10\n",
      "1050/1050 [==============================] - 571s 543ms/step - loss: 0.2943 - acc: 0.9624 - val_loss: 0.2447 - val_acc: 0.9732\n",
      "Epoch 7/10\n",
      "1049/1050 [============================>.] - ETA: 0s - loss: 0.2806 - acc: 0.9626\n",
      "Epoch 00007: reducing learning rate to 0.0002500000118743628.\n",
      "1050/1050 [==============================] - 564s 537ms/step - loss: 0.2805 - acc: 0.9627 - val_loss: 0.2439 - val_acc: 0.9724\n",
      "Epoch 8/10\n",
      "1050/1050 [==============================] - 586s 558ms/step - loss: 0.2461 - acc: 0.9712 - val_loss: 0.2023 - val_acc: 0.9807\n",
      "Epoch 9/10\n",
      "1050/1050 [==============================] - 551s 524ms/step - loss: 0.2418 - acc: 0.9697 - val_loss: 0.1976 - val_acc: 0.9813\n",
      "Epoch 10/10\n",
      "1050/1050 [==============================] - 551s 524ms/step - loss: 0.2383 - acc: 0.9695 - val_loss: 0.1940 - val_acc: 0.9839\n"
     ]
    },
    {
     "data": {
      "text/plain": [
       "<keras.callbacks.History at 0x1d8149e8b00>"
      ]
     },
     "execution_count": 17,
     "metadata": {},
     "output_type": "execute_result"
    }
   ],
   "source": [
    "model.fit_generator(datagen.flow(X_train,Y_train,batch_size=batch_size),epochs=epochs,steps_per_epoch=(X_train.shape[0]/batch_size),\n",
    "                   validation_data=(X_cv,Y_cv),callbacks=[learning_rate_reduction])"
   ]
  },
  {
   "cell_type": "code",
   "execution_count": 18,
   "metadata": {},
   "outputs": [
    {
     "data": {
      "text/plain": [
       "array([[811,   0,   0,   0,   0,   0,   2,   0,   1,   2],\n",
       "       [  0, 902,   4,   0,   0,   0,   1,   2,   0,   0],\n",
       "       [  1,   3, 835,   1,   0,   0,   0,   3,   2,   1],\n",
       "       [  0,   0,   3, 913,   0,   5,   0,   6,   6,   4],\n",
       "       [  0,   1,   0,   0, 824,   0,   3,   2,   0,   9],\n",
       "       [  1,   0,   0,   3,   0, 688,   5,   0,   2,   3],\n",
       "       [  2,   0,   0,   0,   6,   0, 776,   0,   1,   0],\n",
       "       [  0,   0,   5,   0,   0,   0,   0, 884,   1,   3],\n",
       "       [  0,   3,   5,   0,   2,   1,   4,   2, 815,   3],\n",
       "       [  0,   2,   1,   2,   3,   2,   0,   9,   2, 817]], dtype=int64)"
      ]
     },
     "execution_count": 18,
     "metadata": {},
     "output_type": "execute_result"
    }
   ],
   "source": [
    "Y_pred = model.predict(X_cv)\n",
    "Y_pred_digit = np.argmax(Y_pred,axis=1)\n",
    "Y_true = np.argmax(Y_cv,axis=1)\n",
    "confusion_matrix(Y_true,Y_pred_digit)"
   ]
  },
  {
   "cell_type": "code",
   "execution_count": 19,
   "metadata": {},
   "outputs": [],
   "source": [
    "results = model.predict(test)\n",
    "results = np.argmax(results,axis = 1)\n",
    "results = pd.Series(results,name=\"Label\")"
   ]
  },
  {
   "cell_type": "code",
   "execution_count": 20,
   "metadata": {},
   "outputs": [],
   "source": [
    "submission = pd.concat([pd.Series(range(1,28001),name = \"ImageId\"),results],axis = 1)\n",
    "submission.to_csv(\"digit_recognizer_data_augmentation.csv\",index=False)"
   ]
  },
  {
   "cell_type": "code",
   "execution_count": null,
   "metadata": {},
   "outputs": [],
   "source": []
  }
 ],
 "metadata": {
  "kernelspec": {
   "display_name": "Python 3",
   "language": "python",
   "name": "python3"
  },
  "language_info": {
   "codemirror_mode": {
    "name": "ipython",
    "version": 3
   },
   "file_extension": ".py",
   "mimetype": "text/x-python",
   "name": "python",
   "nbconvert_exporter": "python",
   "pygments_lexer": "ipython3",
   "version": "3.5.4"
  }
 },
 "nbformat": 4,
 "nbformat_minor": 2
}
